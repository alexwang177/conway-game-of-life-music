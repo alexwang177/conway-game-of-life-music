{
 "cells": [
  {
   "cell_type": "code",
   "execution_count": 40,
   "id": "04be6928",
   "metadata": {},
   "outputs": [],
   "source": [
    "class Note:\n",
    "    \n",
    "    def __init__(self, channel, pitch, velocity, time):\n",
    "        self.channel = channel\n",
    "        self.pitch = pitch\n",
    "        self.velocity = velocity\n",
    "        self.time = time\n",
    "        \n",
    "    def __eq__(self, other):\n",
    "        return self.channel == other.channel and self.pitch == other.pitch and self.velocity == other.velocity and self.time == other.time\n",
    "        \n",
    "    def __repr__(self):\n",
    "        return f\"[Note {sself.channel} {self.pitch} {s} {}]\"\n",
    "        \n",
    "    def __hash__(self):\n",
    "        return hash(str(self))"
   ]
  },
  {
   "cell_type": "code",
   "execution_count": 42,
   "id": "dd1b9513",
   "metadata": {},
   "outputs": [
    {
     "name": "stdout",
     "output_type": "stream",
     "text": [
      "Track 0, uTHE REAL FOLK BLUES `sAm@[W`v                  \n",
      "finished\n",
      "4200 4200\n"
     ]
    }
   ],
   "source": [
    "from mido import Message, MidiFile, MidiTrack\n",
    "\n",
    "mid = MidiFile('the_real_folk_blues.mid')\n",
    "\n",
    "output_mid = MidiFile()\n",
    "output_track = MidiTrack()\n",
    "output_mid.tracks.append(output_track)\n",
    "\n",
    "for i, track in enumerate(mid.tracks):\n",
    "    print(f'Track {i}, {track.name}')\n",
    "    \n",
    "    for msg in track:\n",
    "        # print(msg)\n",
    "        output_track.append(msg)\n",
    "    \n",
    "print('finished')\n",
    "output_mid.save('generated.mid')\n",
    "\n",
    "note_set = set()\n",
    "counter = 0\n",
    "\n",
    "for msg in output_mid.tracks[0]:\n",
    "    \n",
    "    if msg.type == 'note_on':\n",
    "        # print(msg)\n",
    "        \n",
    "        note = Note(msg.channel, msg.note, msg.velocity, msg.time)\n",
    "        # note_set.add((msg.note, msg.velocity, msg.time, msg.channel))\n",
    "        note_set.add(note)\n",
    "        counter += 1\n",
    "        \n",
    "print(len(note_set), counter)"
   ]
  },
  {
   "cell_type": "code",
   "execution_count": null,
   "id": "7362c717",
   "metadata": {},
   "outputs": [],
   "source": []
  }
 ],
 "metadata": {
  "kernelspec": {
   "display_name": "Python 3 (ipykernel)",
   "language": "python",
   "name": "python3"
  },
  "language_info": {
   "codemirror_mode": {
    "name": "ipython",
    "version": 3
   },
   "file_extension": ".py",
   "mimetype": "text/x-python",
   "name": "python",
   "nbconvert_exporter": "python",
   "pygments_lexer": "ipython3",
   "version": "3.9.12"
  }
 },
 "nbformat": 4,
 "nbformat_minor": 5
}
