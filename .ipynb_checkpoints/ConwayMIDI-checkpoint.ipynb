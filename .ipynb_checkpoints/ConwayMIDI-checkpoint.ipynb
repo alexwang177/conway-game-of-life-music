{
 "cells": [
  {
   "cell_type": "code",
   "execution_count": 3,
   "id": "9aec5b03",
   "metadata": {},
   "outputs": [],
   "source": [
    "class Note:\n",
    "    \n",
    "    def __init__(self, channel, pitch, velocity, timestamp, duration, prev_note_buffer):\n",
    "        self.channel = channel\n",
    "        self.pitch = pitch\n",
    "        self.velocity = velocity\n",
    "        \n",
    "        # in MIDI 'ticks'\n",
    "        self.timestamp = timestamp\n",
    "        self.duration = duration\n",
    "        self.prev_note_buffer = prev_note_buffer\n",
    "        \n",
    "        # rounding values for prediction\n",
    "        self.velocity_round = 40\n",
    "        self.duration_round = 20000\n",
    "        \n",
    "    def rounded(self):\n",
    "        return Note(self.channel, self.pitch, self.velocity - (self.velocity % self.velocity_round), \\\n",
    "                    self.timestamp, self.duration - (self.duration % self.duration_round), self.prev_note_buffer)\n",
    "        \n",
    "    def __eq__(self, other):\n",
    "        return self.channel == other.channel and self.pitch == other.pitch and self.velocity == other.velocity and \\\n",
    "            self.duration == other.duration and self.prev_note_buffer == other.prev_note_buffer\n",
    "        \n",
    "    def __repr__(self):\n",
    "        return f\"[Note {self.channel} {self.pitch} {self.velocity} {self.duration}]\"\n",
    "        \n",
    "    def __hash__(self):\n",
    "        return hash(str(self))"
   ]
  },
  {
   "cell_type": "code",
   "execution_count": 2,
   "id": "1d962877",
   "metadata": {},
   "outputs": [],
   "source": [
    "from collections import defaultdict\n",
    "from random import randint, choices\n",
    "from midiutil.MidiFile import MIDIFile\n",
    "\n",
    "class ConwayGenerator:\n",
    "    \n",
    "    def __init__(self, init_state):\n",
    "        \n",
    "        self.delta = [(-1, -1), (-1, 0), (-1, 1), (0, 1), (1, 1), (1, 0), (1, -1), (0, -1)]\n",
    "\n",
    "        self.D = 0\n",
    "        self.L = 1\n",
    "        self.L_L = 2\n",
    "        self.L_D = 3\n",
    "        self.D_L = 4\n",
    "        self.D_D = 5\n",
    "    \n",
    "    def get_next_state(self, board):\n",
    "        \n",
    "        m, n = len(board), len(board[0])\n",
    "        next_state = [[0 for _ in range(n)] for _ in range(m)]\n",
    "        \n",
    "        for i in range(m):\n",
    "            for j in range(n):\n",
    "                next_state[i][j] = self.update_cell(board, i, j, m, n)\n",
    "               \n",
    "        for i in range(m):\n",
    "            for j in range(n):\n",
    "                if next_state[i][j] == self.L_L or next_state[i][j] == self.D_L:\n",
    "                    next_state[i][j] = self.L\n",
    "                else:\n",
    "                    next_state[i][j] = self.D\n",
    "        \n",
    "        return next_state\n",
    "    \n",
    "        \n",
    "    def update_cell(self, board, r, c, m, n):\n",
    "        \n",
    "        alive = 0\n",
    "        dead = 0\n",
    "        \n",
    "        for dr, dc in self.delta:\n",
    "            nr = r + dr\n",
    "            nc = c + dc\n",
    "            \n",
    "            if nr < 0 or nr >= m or nc < 0 or nc >= n:\n",
    "                continue\n",
    "                \n",
    "            if self.isAlive(board, nr, nc):\n",
    "                alive += 1\n",
    "            else:\n",
    "                dead += 1\n",
    "                \n",
    "        if self.isAlive(board, r, c):\n",
    "            if alive == 2 or alive == 3:\n",
    "                return self.L_L\n",
    "            \n",
    "            return self.L_D\n",
    "        else:\n",
    "            if alive == 3:\n",
    "                return self.D_L\n",
    "            \n",
    "            return self.D_D\n",
    "        \n",
    "    def isAlive(self, board, r, c):\n",
    "        return board[r][c] == self.L or board[r][c] == self.L_L or board[r][c] == self.L_D\n"
   ]
  },
  {
   "cell_type": "code",
   "execution_count": 1,
   "id": "dd1b9513",
   "metadata": {},
   "outputs": [
    {
     "name": "stdout",
     "output_type": "stream",
     "text": [
      "finished\n"
     ]
    }
   ],
   "source": [
    "from mido import Message, MidiFile, MidiTrack\n",
    "\n",
    "\n",
    "print('finished')"
   ]
  },
  {
   "cell_type": "code",
   "execution_count": null,
   "id": "9a5340d9",
   "metadata": {},
   "outputs": [],
   "source": []
  },
  {
   "cell_type": "code",
   "execution_count": null,
   "id": "3656d1a5",
   "metadata": {},
   "outputs": [],
   "source": []
  }
 ],
 "metadata": {
  "kernelspec": {
   "display_name": "Python 3 (ipykernel)",
   "language": "python",
   "name": "python3"
  },
  "language_info": {
   "codemirror_mode": {
    "name": "ipython",
    "version": 3
   },
   "file_extension": ".py",
   "mimetype": "text/x-python",
   "name": "python",
   "nbconvert_exporter": "python",
   "pygments_lexer": "ipython3",
   "version": "3.9.12"
  }
 },
 "nbformat": 4,
 "nbformat_minor": 5
}
